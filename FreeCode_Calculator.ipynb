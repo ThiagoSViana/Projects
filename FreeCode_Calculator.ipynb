{
  "nbformat": 4,
  "nbformat_minor": 0,
  "metadata": {
    "colab": {
      "name": "FreeCode_Calculator.ipynb",
      "provenance": [],
      "collapsed_sections": [],
      "authorship_tag": "ABX9TyPgTnJwog+EsdN7Vk7q9eR/",
      "include_colab_link": true
    },
    "kernelspec": {
      "name": "python3",
      "display_name": "Python 3"
    },
    "language_info": {
      "name": "python"
    }
  },
  "cells": [
    {
      "cell_type": "markdown",
      "metadata": {
        "id": "view-in-github",
        "colab_type": "text"
      },
      "source": [
        "<a href=\"https://colab.research.google.com/github/ThiagoSViana/Projects/blob/main/FreeCode_Calculator.ipynb\" target=\"_parent\"><img src=\"https://colab.research.google.com/assets/colab-badge.svg\" alt=\"Open In Colab\"/></a>"
      ]
    },
    {
      "cell_type": "code",
      "execution_count": null,
      "metadata": {
        "id": "fMZQ0njHuPIq"
      },
      "outputs": [],
      "source": [
        "import numpy as np\n",
        "from pprint import pprint"
      ]
    },
    {
      "cell_type": "code",
      "source": [
        "#Calculator (max, min, mean, standard deviation, sum and variance)\n",
        "#Creating a function:\n",
        "def calculate(number):\n",
        "    if len(number) != 9:\n",
        "        raise ValueError(\"List must contain nine numbers!\")\n",
        "\n",
        "#Calculating the values\n",
        "    matrix = np.array(number).reshape([3, 3])\n",
        "    response = {\"max\": [matrix.max(0).tolist(), matrix.max(1).tolist(), matrix.max()],\n",
        "        \"min\": [matrix.min(0).tolist(), matrix.min(1).tolist(), matrix.min()],\n",
        "        \"mean\": [matrix.mean(0).tolist(), matrix.mean(1).tolist(), matrix.mean()],\n",
        "        \"standard deviation\": [matrix.std(0).tolist(), matrix.std(1).tolist(), matrix.std()],\n",
        "        \"sum\": [matrix.sum(0).tolist(), matrix.sum(1).tolist(), matrix.sum()],\n",
        "        \"variance\": [matrix.var(0).tolist(), matrix.var(1).tolist(), matrix.var()]}\n",
        "    return response\n",
        "\n",
        "pprint(calculate([x for x in range(0, 9)]))"
      ],
      "metadata": {
        "id": "6euhsYWlu639",
        "colab": {
          "base_uri": "https://localhost:8080/"
        },
        "outputId": "eb915db4-e8e4-46fe-9d21-9a96abfa117b"
      },
      "execution_count": null,
      "outputs": [
        {
          "output_type": "stream",
          "name": "stdout",
          "text": [
            "{'max': [[6, 7, 8], [2, 5, 8], 8],\n",
            " 'mean': [[3.0, 4.0, 5.0], [1.0, 4.0, 7.0], 4.0],\n",
            " 'min': [[0, 1, 2], [0, 3, 6], 0],\n",
            " 'standard deviation': [[2.449489742783178,\n",
            "                         2.449489742783178,\n",
            "                         2.449489742783178],\n",
            "                        [0.816496580927726,\n",
            "                         0.816496580927726,\n",
            "                         0.816496580927726],\n",
            "                        2.581988897471611],\n",
            " 'sum': [[9, 12, 15], [3, 12, 21], 36],\n",
            " 'variance': [[6.0, 6.0, 6.0],\n",
            "              [0.6666666666666666, 0.6666666666666666, 0.6666666666666666],\n",
            "              6.666666666666667]}\n"
          ]
        }
      ]
    },
    {
      "cell_type": "code",
      "source": [
        ""
      ],
      "metadata": {
        "id": "cty1m37su7my"
      },
      "execution_count": null,
      "outputs": []
    }
  ]
}